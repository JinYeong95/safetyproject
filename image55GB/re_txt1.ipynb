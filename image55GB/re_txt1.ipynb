{
 "cells": [
  {
   "cell_type": "code",
   "execution_count": 6,
   "id": "84985bf9",
   "metadata": {},
   "outputs": [
    {
     "name": "stdout",
     "output_type": "stream",
     "text": [
      "작업이 완료되었습니다.\n"
     ]
    }
   ],
   "source": [
    "import os\n",
    "import shutil\n",
    "\n",
    "# 입력 폴더와 출력 폴더의 경로를 지정합니다.\n",
    "input_folder_path = \"C:/activatedproject/image55GB/labels3\"\n",
    "output_folder_path = \"C:/activatedproject/image55GB/rerabel3\"\n",
    "\n",
    "# 출력 폴더가 없으면 생성합니다.\n",
    "os.makedirs(output_folder_path, exist_ok=True)\n",
    "\n",
    "# 입력 폴더 내의 파일들을 검색하고 조건에 맞게 파일을 분리합니다.\n",
    "for file_name in os.listdir(input_folder_path):\n",
    "    if file_name.endswith(\".txt\"):\n",
    "        input_file_path = os.path.join(input_folder_path, file_name)\n",
    "        \n",
    "        with open(input_file_path, \"r\") as input_file:\n",
    "            lines = input_file.readlines()\n",
    "            has_second_line_with_2 = False\n",
    "\n",
    "            for line in lines[1:]:  # 첫 번째 줄을 제외한 나머지 줄에 대해서\n",
    "                if line.startswith(\"2\"):  # 첫 번째 숫자가 2로 시작하는지 확인\n",
    "                    has_second_line_with_2 = True\n",
    "                    break\n",
    "            \n",
    "        if has_second_line_with_2:\n",
    "            output_file_path = os.path.join(output_folder_path, file_name)\n",
    "            shutil.move(input_file_path, output_file_path)\n",
    "            print(f\"파일 {file_name}을(를) 옮겼습니다.\")\n",
    "\n",
    "print(\"작업이 완료되었습니다.\")\n"
   ]
  }
 ],
 "metadata": {
  "kernelspec": {
   "display_name": "Python 3 (ipykernel)",
   "language": "python",
   "name": "python3"
  },
  "language_info": {
   "codemirror_mode": {
    "name": "ipython",
    "version": 3
   },
   "file_extension": ".py",
   "mimetype": "text/x-python",
   "name": "python",
   "nbconvert_exporter": "python",
   "pygments_lexer": "ipython3",
   "version": "3.7.16"
  }
 },
 "nbformat": 4,
 "nbformat_minor": 5
}
