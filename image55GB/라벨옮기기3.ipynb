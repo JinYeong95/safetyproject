{
 "cells": [
  {
   "cell_type": "code",
   "execution_count": 1,
   "id": "a09398b7",
   "metadata": {},
   "outputs": [
    {
     "name": "stdout",
     "output_type": "stream",
     "text": [
      "Label moving process completed.\n"
     ]
    }
   ],
   "source": [
    "import os\n",
    "import shutil\n",
    "\n",
    "# 폴더 경로 및 파일 리스트\n",
    "images_folder = \"C:\\\\activatedproject\\\\image55GB\\\\output_img3\"\n",
    "labels_folder = \"C:\\\\activatedproject\\\\image55GB\\\\etclables\" # 이거는 그대로둠\n",
    "#그러니까, 여기는 그대로 있는 것임. 조건에 충족하질 않음\n",
    "\n",
    "output_labels_folder = \"C:\\\\activatedproject\\\\image55GB\\\\labels3\" #여기가 찐으로 옮김\n",
    "\n",
    "# 이미지 파일 리스트와 레이블 파일 리스트 가져오기\n",
    "image_files = os.listdir(images_folder)\n",
    "label_files = os.listdir(labels_folder)\n",
    "\n",
    "# 이미지 파일 이름에서 확장자 제거\n",
    "image_names = [os.path.splitext(filename)[0] for filename in image_files]\n",
    "label_names = [os.path.splitext(filename)[0] for filename in label_files]\n",
    "\n",
    "# 레이블 파일을 저장할 폴더 생성\n",
    "os.makedirs(output_labels_folder, exist_ok=True)\n",
    "\n",
    "# 이미지 파일 이름과 레이블 파일 이름 비교 및 이동\n",
    "for image_name in image_names:\n",
    "    if image_name in label_names:\n",
    "        label_src_path = os.path.join(labels_folder, image_name + \".txt\")\n",
    "        label_dest_path = os.path.join(output_labels_folder, image_name + \".txt\")\n",
    "        shutil.move(label_src_path, label_dest_path)\n",
    "        print(f\"Moved label for {image_name}\")\n",
    "\n",
    "print(\"Label moving process completed.\")"
   ]
  },
  {
   "cell_type": "code",
   "execution_count": 3,
   "id": "afcd8f1e",
   "metadata": {},
   "outputs": [
    {
     "name": "stdout",
     "output_type": "stream",
     "text": [
      "Number of names with the same count: 29770\n",
      "Number of names with a different count: 0\n"
     ]
    }
   ],
   "source": [
    "import os\n",
    "\n",
    "labels_folder = \"C:\\\\activatedproject\\\\image55GB\\\\labels3\"\n",
    "images_folder = \"C:\\\\activatedproject\\\\image55GB\\\\output_img3\"\n",
    "\n",
    "labels_files = os.listdir(labels_folder)\n",
    "images_files = os.listdir(images_folder)\n",
    "\n",
    "common_names = set(name.split('.')[0] for name in labels_files) & set(name.split('.')[0] for name in images_files)\n",
    "\n",
    "same_count = 0\n",
    "different_count = 0\n",
    "\n",
    "for name in common_names:\n",
    "    if len(name) == len(images_files[0].split('.')[0]):\n",
    "        same_count += 1\n",
    "    else:\n",
    "        different_count += 1\n",
    "\n",
    "different_count += len(labels_files) - len(common_names)\n",
    "\n",
    "print(f\"Number of names with the same count: {same_count}\")\n",
    "print(f\"Number of names with a different count: {different_count}\")"
   ]
  }
 ],
 "metadata": {
  "kernelspec": {
   "display_name": "Python 3 (ipykernel)",
   "language": "python",
   "name": "python3"
  },
  "language_info": {
   "codemirror_mode": {
    "name": "ipython",
    "version": 3
   },
   "file_extension": ".py",
   "mimetype": "text/x-python",
   "name": "python",
   "nbconvert_exporter": "python",
   "pygments_lexer": "ipython3",
   "version": "3.7.16"
  }
 },
 "nbformat": 4,
 "nbformat_minor": 5
}
