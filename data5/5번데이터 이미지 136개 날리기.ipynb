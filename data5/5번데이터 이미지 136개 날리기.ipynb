{
 "cells": [
  {
   "cell_type": "code",
   "execution_count": 1,
   "id": "d9caabb7",
   "metadata": {},
   "outputs": [
    {
     "name": "stdout",
     "output_type": "stream",
     "text": [
      "[]\n",
      "0\n"
     ]
    }
   ],
   "source": [
    "import os\n",
    "\n",
    "# 이미지 파일 경로\n",
    "image_folder_path = \"C:\\\\Users\\\\강진영\\\\Desktop\\\\공사현장\\\\5번데이터\\\\5번데이터\\\\train\\\\images\"\n",
    "# 텍스트 파일 경로\n",
    "label_folder_path = \"C:\\\\Users\\\\강진영\\\\Desktop\\\\공사현장\\\\5번데이터\\\\5번데이터\\\\train\\\\labels\"\n",
    "\n",
    "# 이미지 파일 목록\n",
    "image_files = os.listdir(image_folder_path)\n",
    "image_names = set([os.path.splitext(file)[0] for file in image_files])\n",
    "\n",
    "# 텍스트 파일 목록\n",
    "label_files = os.listdir(label_folder_path)\n",
    "label_names = set([os.path.splitext(file)[0] for file in label_files])\n",
    "\n",
    "# 삭제할 이미지 파일 찾기\n",
    "files_to_delete = [img_file for img_file in image_files if os.path.splitext(img_file)[0] not in label_names]\n",
    "\n",
    "# 삭제할 이미지 파일 삭제\n",
    "# for img_file in files_to_delete:\n",
    "#     img_file_path = os.path.join(image_folder_path, img_file)\n",
    "#     os.remove(img_file_path)\n",
    "#     print(f\"Deleted: {img_file_path}\")\n",
    "\n",
    "# 결과 출력\n",
    "print(files_to_delete)\n",
    "print(len(files_to_delete))\n",
    "\n",
    "# 성공! 136개의 파일을 날렸고"
   ]
  },
  {
   "cell_type": "code",
   "execution_count": 11,
   "id": "cb03d63a",
   "metadata": {},
   "outputs": [
    {
     "name": "stdout",
     "output_type": "stream",
     "text": [
      "6892\n",
      "0\n",
      "0\n"
     ]
    }
   ],
   "source": [
    "# image_names와 label_names의 값 비교 및 출력\n",
    "# print(\"Common names between image and label files:\", image_names.intersection(label_names))\n",
    "# print(\"Names unique to image files:\", image_names.difference(label_names))\n",
    "# print(\"Names unique to label files:\", label_names.difference(image_names))\n",
    "print(len(image_names.intersection(label_names)))\n",
    "print(len(image_names.difference(label_names)))\n",
    "print(len(label_names.difference(image_names)))\n",
    "# 그러나, 여기서 또 변수가 생기는데 매칭이 안되는 파일이 있나보다 -> 없나보다!"
   ]
  }
 ],
 "metadata": {
  "kernelspec": {
   "display_name": "Python 3 (ipykernel)",
   "language": "python",
   "name": "python3"
  },
  "language_info": {
   "codemirror_mode": {
    "name": "ipython",
    "version": 3
   },
   "file_extension": ".py",
   "mimetype": "text/x-python",
   "name": "python",
   "nbconvert_exporter": "python",
   "pygments_lexer": "ipython3",
   "version": "3.7.16"
  }
 },
 "nbformat": 4,
 "nbformat_minor": 5
}
